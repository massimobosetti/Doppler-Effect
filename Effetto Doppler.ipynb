{
 "cells": [
  {
   "cell_type": "markdown",
   "metadata": {},
   "source": [
    "# Effetto Doppler\n",
    "\n",
    "## Generalità\n",
    "\n",
    "Chiunque ha avuto occasione di sperimentare la variazione di frequenza di un suono prodotto da una sorgente in avvicinamento o in allontanamento (es. la sirena di un'auto-ambulanza). O forse qualcuno ha sentito parlare della scoperta dell'espansione dell'universo grazie al fenomeno del \"red shift\" (cioè dello spostamento verso il rosso della luce emessa dalle galassie) o del \"bang supersonico\" degli aerei a reazione. O ancora qualcuno conosce una tecnica diagnostica chiamata eco-Doppler per la ricognizione dello stato dei vasi sanguigni. Tali fenomeni così diversi sono tuttavia riconducibili ad un effetto scoperto dal fisico austriaco Doppler e che consiste nella variazione di frequenza dell'onda \"percepita\" da un osservatore (ascoltatore) quando esiste un moto relativo tra sorgente dell'onda ed osservatore stesso.\n",
    "\n",
    "\n",
    "## Storia\n",
    "\n",
    "\n",
    "$$f_1=\\frac{v_1}{\\lambda}=\\frac{v+u_s}{\\lambda}$$\n"
   ]
  },
  {
   "cell_type": "code",
   "execution_count": 2,
   "metadata": {},
   "outputs": [],
   "source": [
    "import numpy as np\n",
    "import matplotlib.pyplot as plt\n",
    "from IPython.display import Audio\n",
    "import warnings\n",
    "from IPython.display import Audio\n",
    "from scipy.io import wavfile\n",
    "%matplotlib inline\n",
    "warnings.filterwarnings('ignore')"
   ]
  },
  {
   "cell_type": "code",
   "execution_count": 3,
   "metadata": {},
   "outputs": [
    {
     "name": "stdout",
     "output_type": "stream",
     "text": [
      "calc version:  2/7/2018B\n"
     ]
    }
   ],
   "source": [
    "# Set to True if we are in colaboratory of False elsewere\n",
    "colaboratory = True\n",
    "\n",
    "if colaboratory:\n",
    "    # Load the calc module\n",
    "    !rm calc.*\n",
    "    !wget https://raw.githubusercontent.com/R6500/Python-bits/master/Modules/calc.py\n",
    "\n",
    "#Import the module\n",
    "import calc\n",
    "\n",
    "# Erase output after import\n",
    "from IPython.display import clear_output\n",
    "clear_output()\n",
    "\n",
    "# Check loaded module\n",
    "try:\n",
    "    print('calc version: ',calc.version)\n",
    "except:\n",
    "    print('Error loading the calc module')"
   ]
  },
  {
   "cell_type": "code",
   "execution_count": 4,
   "metadata": {},
   "outputs": [],
   "source": [
    "# Create a sound\n",
    "framerate = 44100\n",
    "t = np.linspace(0,5,framerate*5)\n",
    "data = np.sin(2*np.pi*220*t) + np.sin(2*np.pi*224*t)"
   ]
  },
  {
   "cell_type": "code",
   "execution_count": 5,
   "metadata": {},
   "outputs": [
    {
     "name": "stdout",
     "output_type": "stream",
     "text": [
      "Speeding-car-horn doppler effect sample.wav loaded\n"
     ]
    }
   ],
   "source": [
    "if colaboratory:\n",
    "    # Load sound file from GitHub\n",
    "    !wget https://github.com/massimobosetti/Doppler-Effect/blob/master/Speeding-car-horn_doppler_effect_sample.wav\n",
    "    # Erase output after import\n",
    "    from IPython.display import clear_output\n",
    "    clear_output()\n",
    "\n",
    "    print(\"Speeding-car-horn doppler effect sample.wav loaded\")\n",
    "else:\n",
    "    print(\"We are not in colaboratory\")\n",
    "    print(\"The file shall already be in the computer\")"
   ]
  },
  {
   "cell_type": "code",
   "execution_count": 6,
   "metadata": {},
   "outputs": [
    {
     "ename": "ValueError",
     "evalue": "File format b'\\n\\n\\n\\n'... not understood.",
     "output_type": "error",
     "traceback": [
      "\u001b[0;31m---------------------------------------------------------------------------\u001b[0m",
      "\u001b[0;31mValueError\u001b[0m                                Traceback (most recent call last)",
      "\u001b[0;32m<ipython-input-6-542b3d7ee1eb>\u001b[0m in \u001b[0;36m<module>\u001b[0;34m\u001b[0m\n\u001b[1;32m      1\u001b[0m \u001b[0;31m# Load the file on an object\u001b[0m\u001b[0;34m\u001b[0m\u001b[0;34m\u001b[0m\u001b[0;34m\u001b[0m\u001b[0m\n\u001b[0;32m----> 2\u001b[0;31m \u001b[0mdata\u001b[0m \u001b[0;34m=\u001b[0m \u001b[0mwavfile\u001b[0m\u001b[0;34m.\u001b[0m\u001b[0mread\u001b[0m\u001b[0;34m(\u001b[0m\u001b[0;34m'Speeding-car-horn_doppler_effect_sample.wav'\u001b[0m\u001b[0;34m)\u001b[0m\u001b[0;34m\u001b[0m\u001b[0;34m\u001b[0m\u001b[0m\n\u001b[0m\u001b[1;32m      3\u001b[0m \u001b[0;34m\u001b[0m\u001b[0m\n\u001b[1;32m      4\u001b[0m \u001b[0;31m# Separete the object elements\u001b[0m\u001b[0;34m\u001b[0m\u001b[0;34m\u001b[0m\u001b[0;34m\u001b[0m\u001b[0m\n\u001b[1;32m      5\u001b[0m \u001b[0mframerate\u001b[0m \u001b[0;34m=\u001b[0m \u001b[0mdata\u001b[0m\u001b[0;34m[\u001b[0m\u001b[0;36m0\u001b[0m\u001b[0;34m]\u001b[0m\u001b[0;34m\u001b[0m\u001b[0;34m\u001b[0m\u001b[0m\n",
      "\u001b[0;32m~/anaconda3/lib/python3.7/site-packages/scipy/io/wavfile.py\u001b[0m in \u001b[0;36mread\u001b[0;34m(filename, mmap)\u001b[0m\n\u001b[1;32m    234\u001b[0m \u001b[0;34m\u001b[0m\u001b[0m\n\u001b[1;32m    235\u001b[0m     \u001b[0;32mtry\u001b[0m\u001b[0;34m:\u001b[0m\u001b[0;34m\u001b[0m\u001b[0;34m\u001b[0m\u001b[0m\n\u001b[0;32m--> 236\u001b[0;31m         \u001b[0mfile_size\u001b[0m\u001b[0;34m,\u001b[0m \u001b[0mis_big_endian\u001b[0m \u001b[0;34m=\u001b[0m \u001b[0m_read_riff_chunk\u001b[0m\u001b[0;34m(\u001b[0m\u001b[0mfid\u001b[0m\u001b[0;34m)\u001b[0m\u001b[0;34m\u001b[0m\u001b[0;34m\u001b[0m\u001b[0m\n\u001b[0m\u001b[1;32m    237\u001b[0m         \u001b[0mfmt_chunk_received\u001b[0m \u001b[0;34m=\u001b[0m \u001b[0;32mFalse\u001b[0m\u001b[0;34m\u001b[0m\u001b[0;34m\u001b[0m\u001b[0m\n\u001b[1;32m    238\u001b[0m         \u001b[0mchannels\u001b[0m \u001b[0;34m=\u001b[0m \u001b[0;36m1\u001b[0m\u001b[0;34m\u001b[0m\u001b[0;34m\u001b[0m\u001b[0m\n",
      "\u001b[0;32m~/anaconda3/lib/python3.7/site-packages/scipy/io/wavfile.py\u001b[0m in \u001b[0;36m_read_riff_chunk\u001b[0;34m(fid)\u001b[0m\n\u001b[1;32m    166\u001b[0m         \u001b[0;31m# There are also .wav files with \"FFIR\" or \"XFIR\" signatures?\u001b[0m\u001b[0;34m\u001b[0m\u001b[0;34m\u001b[0m\u001b[0;34m\u001b[0m\u001b[0m\n\u001b[1;32m    167\u001b[0m         raise ValueError(\"File format {}... not \"\n\u001b[0;32m--> 168\u001b[0;31m                          \"understood.\".format(repr(str1)))\n\u001b[0m\u001b[1;32m    169\u001b[0m \u001b[0;34m\u001b[0m\u001b[0m\n\u001b[1;32m    170\u001b[0m     \u001b[0;31m# Size of entire file\u001b[0m\u001b[0;34m\u001b[0m\u001b[0;34m\u001b[0m\u001b[0;34m\u001b[0m\u001b[0m\n",
      "\u001b[0;31mValueError\u001b[0m: File format b'\\n\\n\\n\\n'... not understood."
     ]
    }
   ],
   "source": [
    "# Load the file on an object\n",
    "data = wavfile.read('Speeding-car-horn_doppler_effect_sample.wav')\n",
    "\n",
    "# Separete the object elements\n",
    "framerate = data[0]\n",
    "sounddata = data[1]\n",
    "time      = np.arange(0,len(sounddata))/framerate\n",
    "\n",
    "# Show information about the object\n",
    "print('Sample rate:',framerate,'Hz')\n",
    "print('Total time:',len(sounddata)/framerate,'s')"
   ]
  },
  {
   "cell_type": "code",
   "execution_count": null,
   "metadata": {},
   "outputs": [],
   "source": []
  }
 ],
 "metadata": {
  "kernelspec": {
   "display_name": "Python 3",
   "language": "python",
   "name": "python3"
  },
  "language_info": {
   "codemirror_mode": {
    "name": "ipython",
    "version": 3
   },
   "file_extension": ".py",
   "mimetype": "text/x-python",
   "name": "python",
   "nbconvert_exporter": "python",
   "pygments_lexer": "ipython3",
   "version": "3.7.4"
  }
 },
 "nbformat": 4,
 "nbformat_minor": 2
}
